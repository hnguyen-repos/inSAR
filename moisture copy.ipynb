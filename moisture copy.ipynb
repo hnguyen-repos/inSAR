{
 "cells": [
  {
   "attachments": {},
   "cell_type": "markdown",
   "metadata": {},
   "source": [
    "Fitting function:\n",
    "$$\n",
    "y = a + b x + c x^2\n",
    "$$"
   ]
  },
  {
   "cell_type": "code",
   "execution_count": 11,
   "metadata": {},
   "outputs": [
    {
     "name": "stdout",
     "output_type": "stream",
     "text": [
      "882000000.0000005\n"
     ]
    },
    {
     "data": {
      "text/plain": [
       "array([[1.000e+00, 0.000e+00, 0.000e+00, 0.000e+00],\n",
       "       [1.000e+00, 5.000e+00, 2.500e+01, 0.000e+00],\n",
       "       [1.000e+00, 1.000e+01, 1.000e+02, 0.000e+00],\n",
       "       [1.000e+00, 1.500e+01, 2.250e+02, 0.000e+00],\n",
       "       [1.000e+00, 2.000e+01, 4.000e+02, 1.000e+00],\n",
       "       [1.000e+00, 2.500e+01, 6.250e+02, 1.000e+00],\n",
       "       [1.000e+00, 3.000e+01, 9.000e+02, 1.000e+00],\n",
       "       [1.000e+00, 3.500e+01, 1.225e+03, 1.000e+00]])"
      ]
     },
     "execution_count": 11,
     "metadata": {},
     "output_type": "execute_result"
    }
   ],
   "source": [
    "import numpy as np\n",
    "\n",
    "h = np.array([[0, 5, 10, 15, 20, 25, 30, 35]]).T\n",
    "moisture = np.array([[124, 78, 54, 35, 30, 21, 22, 18]]).T\n",
    "\n",
    "n = len(h)\n",
    "A = np.concatenate((np.ones((n,1)),h,h**2), axis=1)\n",
    "N = np.dot(A.T,A)\n",
    "\n",
    "print(np.linalg.det(N))\n",
    "\n",
    "def hfunc(x):\n",
    "    return 0 if x < 20 else 1\n",
    "hvc = np.vectorize(hfunc)\n",
    "hvc(h)\n",
    "\n",
    "B = np.concatenate((np.ones((n,1)),h,h**2, hvc(h)), axis=1)\n",
    "M = np.dot(B.T,B)\n",
    "\n",
    "np.linalg.det(M)\n",
    "B"
   ]
  }
 ],
 "metadata": {
  "kernelspec": {
   "display_name": "geo",
   "language": "python",
   "name": "python3"
  },
  "language_info": {
   "codemirror_mode": {
    "name": "ipython",
    "version": 3
   },
   "file_extension": ".py",
   "mimetype": "text/x-python",
   "name": "python",
   "nbconvert_exporter": "python",
   "pygments_lexer": "ipython3",
   "version": "3.11.0"
  },
  "orig_nbformat": 4
 },
 "nbformat": 4,
 "nbformat_minor": 2
}
